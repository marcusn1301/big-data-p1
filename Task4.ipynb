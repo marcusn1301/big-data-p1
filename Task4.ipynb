{
 "cells": [
  {
   "cell_type": "markdown",
   "metadata": {
    "application/vnd.databricks.v1+cell": {
     "inputWidgets": {},
     "nuid": "bbe62928-01d3-402d-9e45-19d009a4639d",
     "showTitle": false,
     "title": ""
    }
   },
   "source": [
    "#### Names of people in the group\n",
    "\n",
    "Please write the names of the people in your group in the next cell."
   ]
  },
  {
   "cell_type": "markdown",
   "metadata": {
    "application/vnd.databricks.v1+cell": {
     "inputWidgets": {},
     "nuid": "15e1606f-bbea-4e98-9f90-bf0a15da5391",
     "showTitle": false,
     "title": ""
    }
   },
   "source": [
    "Marcus Stephan Nordal\n",
    "\n",
    "Silviu Mihai"
   ]
  },
  {
   "cell_type": "code",
   "execution_count": null,
   "metadata": {
    "application/vnd.databricks.v1+cell": {
     "inputWidgets": {},
     "nuid": "389ff132-7e3c-444e-a980-6490e3448153",
     "showTitle": false,
     "title": ""
    }
   },
   "outputs": [
    {
     "data": {
      "text/html": [
       "<style scoped>\n",
       "  .ansiout {\n",
       "    display: block;\n",
       "    unicode-bidi: embed;\n",
       "    white-space: pre-wrap;\n",
       "    word-wrap: break-word;\n",
       "    word-break: break-all;\n",
       "    font-family: \"Source Code Pro\", \"Menlo\", monospace;;\n",
       "    font-size: 13px;\n",
       "    color: #555;\n",
       "    margin-left: 4px;\n",
       "    line-height: 19px;\n",
       "  }\n",
       "</style>"
      ]
     },
     "metadata": {
      "application/vnd.databricks.v1+output": {
       "arguments": {},
       "data": "",
       "errorSummary": "",
       "errorTraceType": null,
       "metadata": {},
       "type": "ipynbError"
      }
     },
     "output_type": "display_data"
    }
   ],
   "source": [
    "# Loading modules that we need\n",
    "from pyspark.sql.session import SparkSession\n",
    "from pyspark.sql.types import *\n",
    "from pyspark.sql.functions import *\n",
    "\n",
    "# Add your imports below this line\n",
    "from pyspark.sql import SparkSession\n",
    "from pyspark.ml.stat import Correlation\n",
    "from pyspark.ml.feature import VectorAssembler\n",
    "from pyspark.sql.functions import col, countDistinct, regexp_replace, explode, split"
   ]
  },
  {
   "cell_type": "code",
   "execution_count": null,
   "metadata": {
    "application/vnd.databricks.v1+cell": {
     "inputWidgets": {},
     "nuid": "1b384d61-f63a-4c3f-9d87-63e0427c5ecd",
     "showTitle": false,
     "title": ""
    }
   },
   "outputs": [
    {
     "data": {
      "text/html": [
       "<style scoped>\n",
       "  .ansiout {\n",
       "    display: block;\n",
       "    unicode-bidi: embed;\n",
       "    white-space: pre-wrap;\n",
       "    word-wrap: break-word;\n",
       "    word-break: break-all;\n",
       "    font-family: \"Source Code Pro\", \"Menlo\", monospace;;\n",
       "    font-size: 13px;\n",
       "    color: #555;\n",
       "    margin-left: 4px;\n",
       "    line-height: 19px;\n",
       "  }\n",
       "</style>"
      ]
     },
     "metadata": {
      "application/vnd.databricks.v1+output": {
       "arguments": {},
       "data": "",
       "errorSummary": "",
       "errorTraceType": null,
       "metadata": {},
       "type": "ipynbError"
      }
     },
     "output_type": "display_data"
    }
   ],
   "source": [
    "# A helper function to load a table (stored in Parquet format) from DBFS as a Spark DataFrame \n",
    "def load_df(table_name: \"name of the table to load\") -> DataFrame:\n",
    "    return spark.read.parquet(table_name)\n",
    "\n",
    "users_df = load_df(\"/user/hive/warehouse/users\")\n",
    "posts_df = load_df(\"/user/hive/warehouse/posts\")\n",
    "\n",
    "# Uncomment if you need\n",
    "# comments_df = load_df(\"/user/hive/warehouse/comments\")\n",
    "# badges_df = load_df(\"/user/hive/warehouse/badges\")"
   ]
  },
  {
   "cell_type": "markdown",
   "metadata": {
    "application/vnd.databricks.v1+cell": {
     "inputWidgets": {},
     "nuid": "e9b9e457-0510-45fb-8a13-85c006247f0c",
     "showTitle": false,
     "title": ""
    }
   },
   "source": [
    "#### The Problem: Mining the Interests of Experts"
   ]
  },
  {
   "cell_type": "code",
   "execution_count": null,
   "metadata": {
    "application/vnd.databricks.v1+cell": {
     "inputWidgets": {},
     "nuid": "a5d203e1-ee4f-4ffe-902b-621c027cff89",
     "showTitle": false,
     "title": ""
    }
   },
   "outputs": [
    {
     "data": {
      "text/html": [
       "<style scoped>\n",
       "  .ansiout {\n",
       "    display: block;\n",
       "    unicode-bidi: embed;\n",
       "    white-space: pre-wrap;\n",
       "    word-wrap: break-word;\n",
       "    word-break: break-all;\n",
       "    font-family: \"Source Code Pro\", \"Menlo\", monospace;;\n",
       "    font-size: 13px;\n",
       "    color: #555;\n",
       "    margin-left: 4px;\n",
       "    line-height: 19px;\n",
       "  }\n",
       "</style>"
      ]
     },
     "metadata": {
      "application/vnd.databricks.v1+output": {
       "arguments": {},
       "data": "",
       "errorSummary": "",
       "errorTraceType": null,
       "metadata": {},
       "type": "ipynbError"
      }
     },
     "output_type": "display_data"
    }
   ],
   "source": [
    "## To-do!\n",
    "\n",
    "users_df = load_df(\"/user/hive/warehouse/users\")\n",
    "posts_df = load_df(\"/user/hive/warehouse/posts\")\n",
    "\n",
    "users_df = users_df.withColumnRenamed('Id', 'UserId')\n",
    "\n",
    "# expert answers\n",
    "expert_answers_df = posts_df.alias(\"p\").join(\n",
    "    users_df.alias(\"u\"),\n",
    "    (col(\"p.OwnerUserId\") == col(\"u.UserId\")) & (col(\"p.PostTypeId\") ==  2)\n",
    ")\n",
    "\n",
    "# variable a - experts' reputation\n",
    "experts_reputation_df = expert_answers_df.select(\"u.UserId\", col(\"Reputation\"))\n",
    "\n",
    "experts_reputation_df.show()\n",
    "\n",
    "# join with questions to find tags\n",
    "expert_answers_questions_df = expert_answers_df.alias(\"ap\").join(\n",
    "    posts_df.alias(\"qp\"),\n",
    "    (col(\"ap.ParentId\") == col(\"qp.Id\"))\n",
    ")\n",
    "\n",
    "# select expert id and the tags\n",
    "tags_df = expert_answers_questions_df.select(col(\"ap.Id\"), col(\"qp.Tags\").alias(\"Tags\"))\n",
    "\n",
    "\n",
    "# process the tags \n",
    "tags_df = tags_df.withColumn(\"Tags\", regexp_replace(\"Tags\", \"<(.*?)>\", \"$1,\"))    \n",
    "tags_df = tags_df.withColumn(\"Tags\", explode(split(col(\"Tags\"), \",\")))\n",
    "tags_df = tags_df.filter(col(\"Tags\").isNotNull() & (col(\"Tags\") != \"\"))\n",
    "\n",
    "# total number of distinct tags for each user\n",
    "user_interests_df = tags_df.groupBy(\"Id\").agg(countDistinct(\"Tags\").alias(\"DistinctTags\"))\n",
    "total_unique_tags = 638\n",
    "\n",
    "# variable b - diversity of user's interests\n",
    "user_interests_df = user_interests_df.withColumn(\"InterestDiversity\", col(\"DistinctTags\") / total_unique_tags)\n",
    "\n",
    "# join the reputation and interest diversity dataframes and remove duplicate rows\n",
    "joined_df = experts_reputation_df.join(user_interests_df, experts_reputation_df.UserId == user_interests_df.Id)\n",
    "joined_df = joined_df.distinct()\n",
    "\n",
    "joined_df.show()\n",
    "\n",
    "# vector assembler for the pearson correlation\n",
    "va = VectorAssembler(inputCols=[\"Reputation\", \"InterestDiversity\"], outputCol=\"features\")\n",
    "data = va.transform(joined_df).select(\"features\")\n",
    "\n",
    "correlation_matrix = Correlation.corr(data, \"features\").collect()[0][0]\n",
    "pearson_correlation = correlation_matrix[1, 0]\n",
    "\n",
    "print(\"Pearson Correlation Coefficient:\", pearson_correlation)\n",
    "# We get a pearson correlation coefficient of 0.0065856"
   ]
  },
  {
   "cell_type": "markdown",
   "metadata": {},
   "source": [
    "Do expert users have specific interests, or do they have general interests?\n",
    "\n",
    "From the correlation coefficient of 0.006585616084188508 we can assume that \n",
    "the correlation between the experts' reputation and their interest diversity is slim to none, \n",
    "since a pearson correlation of 0 means that there is no correlation, we did not find a significant \n",
    "negative or positive sway. However, there is a slight positive correlation, but in general \n",
    "the experts with the most reputation are not the ones with the most or the least diverse interests. \n",
    "The experts' interest diversity does not have much of an impact on their reputation either, \n",
    "except for a very small positive correlation."
   ]
  }
 ],
 "metadata": {
  "application/vnd.databricks.v1+notebook": {
   "dashboards": [],
   "language": "python",
   "notebookMetadata": {
    "pythonIndentUnit": 2
   },
   "notebookName": "Task4p2 (1)",
   "notebookOrigID": 3435467642239181,
   "widgets": {}
  },
  "kernelspec": {
   "display_name": "Python 3 (ipykernel)",
   "language": "python",
   "name": "python3"
  },
  "language_info": {
   "codemirror_mode": {
    "name": "ipython",
    "version": 3
   },
   "file_extension": ".py",
   "mimetype": "text/x-python",
   "name": "python",
   "nbconvert_exporter": "python",
   "pygments_lexer": "ipython3",
   "version": "3.10.12"
  }
 },
 "nbformat": 4,
 "nbformat_minor": 1
}
